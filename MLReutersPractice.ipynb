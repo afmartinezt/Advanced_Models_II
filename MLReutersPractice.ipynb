{
  "nbformat": 4,
  "nbformat_minor": 0,
  "metadata": {
    "colab": {
      "name": "MLReutersPractice.ipynb",
      "provenance": [],
      "collapsed_sections": []
    },
    "kernelspec": {
      "name": "python3",
      "display_name": "Python 3"
    },
    "accelerator": "GPU"
  },
  "cells": [
    {
      "cell_type": "markdown",
      "metadata": {
        "id": "0bpPKZKr4gIJ",
        "colab_type": "text"
      },
      "source": [
        "# Practice MLP\n",
        "## Advanced Models for Data Analysis 2\n",
        "\n",
        "______\n",
        "\n",
        "Developed by:\n",
        "* Andres Martinez\n",
        "* Nicolas Gil\n",
        "* Jorge Medina\n",
        "\n",
        "______\n",
        "\n",
        "### University of Los Andes\n",
        "\n",
        "Date: 21/10/2019"
      ]
    },
    {
      "cell_type": "markdown",
      "metadata": {
        "id": "vL_YoixBqFZ0",
        "colab_type": "text"
      },
      "source": [
        "# **The Reuters dataset**\n",
        "\n",
        "It is a set of short newswires and their topics, published by Reuters in 1986. There are 46 different topics; some topics are more represented than others, but each topic has at least 10 examples in the training set. \n",
        "\n",
        "The Reuters dataset comes packaged as part of Keras. The following code will load the dataset. "
      ]
    },
    {
      "cell_type": "code",
      "metadata": {
        "id": "LEQwcIua_3Fs",
        "colab_type": "code",
        "outputId": "6180b7b5-d3b5-4cbe-ef5b-b55be8d16855",
        "colab": {
          "base_uri": "https://localhost:8080/",
          "height": 34
        }
      },
      "source": [
        "import os\n",
        "os.environ['TF_CPP_MIN_LOG_LEVEL'] = '3' \n",
        "import tensorflow as tf\n",
        "from keras.datasets import reuters\n",
        "(train_data, train_labels), (test_data, test_labels)=reuters.load_data(num_words=10000)"
      ],
      "execution_count": 1,
      "outputs": [
        {
          "output_type": "stream",
          "text": [
            "Using TensorFlow backend.\n"
          ],
          "name": "stderr"
        }
      ]
    },
    {
      "cell_type": "markdown",
      "metadata": {
        "id": "E451W7IwracX",
        "colab_type": "text"
      },
      "source": [
        "The argument ``num_words=10000`` means you'll only keep the top 10000 most frequently occurring words in the training data. Rare words will be discarted. \n",
        "\n",
        "The variables ``train_data`` and ``test_data`` are lists of newswires; each new is a list of word indices (encoding a sequence of words). \n",
        "You have 8982 training examples and 2246 test examples.\n",
        "\n",
        "\n",
        "\n"
      ]
    },
    {
      "cell_type": "code",
      "metadata": {
        "id": "tpNr8V4huCMQ",
        "colab_type": "code",
        "outputId": "1cfdee52-ab44-4cac-fc33-50edae784585",
        "colab": {
          "base_uri": "https://localhost:8080/",
          "height": 34
        }
      },
      "source": [
        "len(train_data)"
      ],
      "execution_count": 2,
      "outputs": [
        {
          "output_type": "execute_result",
          "data": {
            "text/plain": [
              "8982"
            ]
          },
          "metadata": {
            "tags": []
          },
          "execution_count": 2
        }
      ]
    },
    {
      "cell_type": "code",
      "metadata": {
        "id": "pH4LRq07uLzc",
        "colab_type": "code",
        "outputId": "0c8e8a3f-827b-4f5d-92ef-cabe7d59adcb",
        "colab": {
          "base_uri": "https://localhost:8080/",
          "height": 34
        }
      },
      "source": [
        " len(test_data)"
      ],
      "execution_count": 3,
      "outputs": [
        {
          "output_type": "execute_result",
          "data": {
            "text/plain": [
              "2246"
            ]
          },
          "metadata": {
            "tags": []
          },
          "execution_count": 3
        }
      ]
    },
    {
      "cell_type": "code",
      "metadata": {
        "id": "EF_1pQ-6uQ9a",
        "colab_type": "code",
        "outputId": "ed7b1923-320b-45ad-ab0c-d6e7e0354b35",
        "colab": {
          "base_uri": "https://localhost:8080/",
          "height": 544
        }
      },
      "source": [
        "#Each example is a list of integers (word indices):\n",
        "train_data[10]"
      ],
      "execution_count": 4,
      "outputs": [
        {
          "output_type": "execute_result",
          "data": {
            "text/plain": [
              "[1,\n",
              " 245,\n",
              " 273,\n",
              " 207,\n",
              " 156,\n",
              " 53,\n",
              " 74,\n",
              " 160,\n",
              " 26,\n",
              " 14,\n",
              " 46,\n",
              " 296,\n",
              " 26,\n",
              " 39,\n",
              " 74,\n",
              " 2979,\n",
              " 3554,\n",
              " 14,\n",
              " 46,\n",
              " 4689,\n",
              " 4329,\n",
              " 86,\n",
              " 61,\n",
              " 3499,\n",
              " 4795,\n",
              " 14,\n",
              " 61,\n",
              " 451,\n",
              " 4329,\n",
              " 17,\n",
              " 12]"
            ]
          },
          "metadata": {
            "tags": []
          },
          "execution_count": 4
        }
      ]
    },
    {
      "cell_type": "markdown",
      "metadata": {
        "id": "-l3DYoXWuf1P",
        "colab_type": "text"
      },
      "source": [
        "Because you're restricting yourself to the top 10000 most frequent words, no word index will exceed 10000: "
      ]
    },
    {
      "cell_type": "code",
      "metadata": {
        "id": "8LOYZwilwSfV",
        "colab_type": "code",
        "outputId": "0c66dcbc-42f5-4b03-e2dc-2991fdd65390",
        "colab": {
          "base_uri": "https://localhost:8080/",
          "height": 34
        }
      },
      "source": [
        "max([max(i) for i in train_data])\n"
      ],
      "execution_count": 5,
      "outputs": [
        {
          "output_type": "execute_result",
          "data": {
            "text/plain": [
              "9999"
            ]
          },
          "metadata": {
            "tags": []
          },
          "execution_count": 5
        }
      ]
    },
    {
      "cell_type": "markdown",
      "metadata": {
        "id": "qbJtXXH2xEMg",
        "colab_type": "text"
      },
      "source": [
        "Here's how you can decode one of these news back to English words: "
      ]
    },
    {
      "cell_type": "code",
      "metadata": {
        "id": "AhHPKZCBxMaf",
        "colab_type": "code",
        "outputId": "38b9e6ad-3f31-4c09-cf7e-1649b759bbb4",
        "colab": {
          "base_uri": "https://localhost:8080/",
          "height": 34
        }
      },
      "source": [
        "word_index = reuters.get_word_index() #word_index is a dictionary mapping words to an integer index\n",
        "reverse_word_index = dict([(value,key) for (key, value) in word_index.items()]) #reverses it, mapping integer indices to words\n",
        "decoded_newswire= ' '.join([reverse_word_index.get(i-3,'?') for i in train_data[10]]) #the indices are offset by 3 because 0, 1, and 2 are reserved indices for \"padding,\" \"start of sequence,\" and \"unknowns.\"\n",
        "print(decoded_newswire)"
      ],
      "execution_count": 6,
      "outputs": [
        {
          "output_type": "stream",
          "text": [
            "? period ended december 31 shr profit 11 cts vs loss 24 cts net profit 224 271 vs loss 511 349 revs 7 258 688 vs 7 200 349 reuter 3\n"
          ],
          "name": "stdout"
        }
      ]
    },
    {
      "cell_type": "markdown",
      "metadata": {
        "id": "HJbMRas60lYB",
        "colab_type": "text"
      },
      "source": [
        "The label associated with an example is an integer between 0 and 45 - a topic index:"
      ]
    },
    {
      "cell_type": "code",
      "metadata": {
        "id": "XPEKVKoV0cJG",
        "colab_type": "code",
        "outputId": "b7c2abac-f719-4c99-d3f9-780dcd1626a3",
        "colab": {
          "base_uri": "https://localhost:8080/",
          "height": 34
        }
      },
      "source": [
        "train_labels[150]"
      ],
      "execution_count": 7,
      "outputs": [
        {
          "output_type": "execute_result",
          "data": {
            "text/plain": [
              "7"
            ]
          },
          "metadata": {
            "tags": []
          },
          "execution_count": 7
        }
      ]
    },
    {
      "cell_type": "markdown",
      "metadata": {
        "id": "FKGEk5nb03LI",
        "colab_type": "text"
      },
      "source": [
        "# **Preparing the data**\n",
        "\n",
        "You have to turn your lists into tensors. There are two ways to do that: \n",
        "\n",
        "\n",
        "1. Pad your lists so that they all have the same length, turn them into an integer tensor of shape `(samples, word_indices)`, and then use as the first layer in your network a layer capable of handling such integer tensors.\n",
        "2.   One-hot encode your lists to turn them into vectors of 0s and 1s. This would mean, for instance, turning the sequence [3, 5] into a 10000-dimensional vector that would be all 0s except for indices 3 and 5, which would be 1s. Then you could use as the first layer in your network a Dense layer, capable of handling floating-point vector data.\n",
        "\n",
        "Let’s go with the latter solution to vectorize the data, which you’ll do manually for maximum clarity.\n",
        "\n"
      ]
    },
    {
      "cell_type": "code",
      "metadata": {
        "id": "y2-53vlg2i36",
        "colab_type": "code",
        "colab": {}
      },
      "source": [
        "#Encoding the integer sequences into a binary matrix \n",
        "import numpy as np\n",
        "\n",
        "def vectorize_sequences(sequences, dimension=10000):   #Creates an all-zero matrix of shape (len(sequences), dimension)\n",
        "    results = np.zeros((len(sequences), dimension))\n",
        "    for i, sequence in enumerate(sequences):\n",
        "        results[i, sequence] = 1.                          #Sets specific indices of results[i] to 1s\n",
        "    return results\n",
        "\n",
        "x_train = vectorize_sequences(train_data)   #Vectorized training data\n",
        "x_test = vectorize_sequences(test_data)     #Vectorized test data"
      ],
      "execution_count": 0,
      "outputs": []
    },
    {
      "cell_type": "markdown",
      "metadata": {
        "id": "p3Dyjsi56Neh",
        "colab_type": "text"
      },
      "source": [
        "Here’s what the samples look like now:\n"
      ]
    },
    {
      "cell_type": "code",
      "metadata": {
        "id": "1-RdgQ9q6S4n",
        "colab_type": "code",
        "outputId": "5c1b34fd-4f45-47bb-c1cc-6a4100f188e7",
        "colab": {
          "base_uri": "https://localhost:8080/",
          "height": 34
        }
      },
      "source": [
        "x_train[0]"
      ],
      "execution_count": 9,
      "outputs": [
        {
          "output_type": "execute_result",
          "data": {
            "text/plain": [
              "array([0., 1., 1., ..., 0., 0., 0.])"
            ]
          },
          "metadata": {
            "tags": []
          },
          "execution_count": 9
        }
      ]
    },
    {
      "cell_type": "markdown",
      "metadata": {
        "id": "PnNmT6lX6ajK",
        "colab_type": "text"
      },
      "source": [
        "To vectorize the labels, there are two possibilities: you can cast the label list as an integer tensor, or you can use one-hot encoding. One-hot encoding is a widely used format for categorical data, also called categorical encoding. In this case, one-hot encoding of the labels consists of embedding each label as an all-zero vector with a 1 in the place of the label index. Here’s an example:"
      ]
    },
    {
      "cell_type": "code",
      "metadata": {
        "id": "4PEGntO66XRw",
        "colab_type": "code",
        "colab": {}
      },
      "source": [
        "def to_one_hot(labels, dimension=46):\n",
        "  results = np.zeros((len(labels), dimension))\n",
        "  for i, label in enumerate(labels):\n",
        "    results[i, label] = 1.\n",
        "  return results\n",
        "\n",
        "one_hot_train_labels = to_one_hot(train_labels) #Vectorized training labels\n",
        "one_hot_test_labels = to_one_hot(test_labels)   #Vectorized test labels"
      ],
      "execution_count": 0,
      "outputs": []
    },
    {
      "cell_type": "markdown",
      "metadata": {
        "id": "CNqITnbV6lu4",
        "colab_type": "text"
      },
      "source": [
        "There is a *built-in way* to do this in Keras:"
      ]
    },
    {
      "cell_type": "code",
      "metadata": {
        "id": "E7jLLuNk7iIa",
        "colab_type": "code",
        "colab": {}
      },
      "source": [
        "from keras.utils.np_utils import to_categorical\n",
        "\n",
        "one_hot_train_labels = to_categorical(train_labels)\n",
        "one_hot_test_labels = to_categorical(test_labels)"
      ],
      "execution_count": 0,
      "outputs": []
    },
    {
      "cell_type": "markdown",
      "metadata": {
        "id": "ApselmACDnwG",
        "colab_type": "text"
      },
      "source": [
        "# **Validating your approach**\n",
        "\n",
        "Let’s set apart 1000 samples in the training data to use as a validation set."
      ]
    },
    {
      "cell_type": "code",
      "metadata": {
        "id": "wGSeQuIFHuFO",
        "colab_type": "code",
        "colab": {}
      },
      "source": [
        "x_val = x_train[:1000]\n",
        "partial_x_train = x_train[1000:]\n",
        "\n",
        "y_val = one_hot_train_labels[:1000]\n",
        "partial_y_train = one_hot_train_labels[1000:]"
      ],
      "execution_count": 0,
      "outputs": []
    },
    {
      "cell_type": "markdown",
      "metadata": {
        "id": "QNJUzsA9753o",
        "colab_type": "text"
      },
      "source": [
        "# **Building your network**\n",
        "\n",
        "\n",
        "\n"
      ]
    },
    {
      "cell_type": "markdown",
      "metadata": {
        "id": "7f3s7tKiGNu7",
        "colab_type": "text"
      },
      "source": [
        "## **MLP With Different Loss Functions**\n",
        "\n",
        "Will be create 4 different neural network for analysis.\n",
        "Each analysis will have:\n",
        "\n",
        "* Parameters specification\n",
        "* Training and Validation loss\n",
        "* Summary"
      ]
    },
    {
      "cell_type": "markdown",
      "metadata": {
        "id": "8txUAShwGTUk",
        "colab_type": "text"
      },
      "source": [
        "____\n",
        "\n",
        "### Sigmoid Activation and MSE Loss with 2 dense layers\n",
        "\n",
        "First Neural Network for Analysis with two (2) dense layers:\n",
        "\n",
        "* First Layer\n",
        "  * 64 neurons per layer\n",
        "  * Activation Function : `sigmoid`\n",
        "\n",
        "* Second Layer\n",
        "  * 46 neurons per layer\n",
        "  * Activation Function : `sigmoid`\n",
        "  \n",
        "- Optimizer : `sgd`\n",
        "- Loss Function : `mse`"
      ]
    },
    {
      "cell_type": "code",
      "metadata": {
        "id": "2MK5iYlnGX5w",
        "colab_type": "code",
        "colab": {
          "base_uri": "https://localhost:8080/",
          "height": 173
        },
        "outputId": "e191d4c5-3d79-49b2-a287-054f146f85bd"
      },
      "source": [
        "from keras import models\n",
        "from keras import layers\n",
        "\n",
        "model = models.Sequential()\n",
        "model.add(layers.Dense(64, activation='sigmoid', input_shape=(10000,)))\n",
        "model.add(layers.Dense(46, activation='sigmoid'))\n",
        "\n",
        "model.compile(optimizer='sgd', loss='mse', metrics=['accuracy'])"
      ],
      "execution_count": 13,
      "outputs": [
        {
          "output_type": "stream",
          "text": [
            "WARNING:tensorflow:From /usr/local/lib/python3.6/dist-packages/keras/backend/tensorflow_backend.py:66: The name tf.get_default_graph is deprecated. Please use tf.compat.v1.get_default_graph instead.\n",
            "\n",
            "WARNING:tensorflow:From /usr/local/lib/python3.6/dist-packages/keras/backend/tensorflow_backend.py:541: The name tf.placeholder is deprecated. Please use tf.compat.v1.placeholder instead.\n",
            "\n",
            "WARNING:tensorflow:From /usr/local/lib/python3.6/dist-packages/keras/backend/tensorflow_backend.py:4432: The name tf.random_uniform is deprecated. Please use tf.random.uniform instead.\n",
            "\n",
            "WARNING:tensorflow:From /usr/local/lib/python3.6/dist-packages/keras/optimizers.py:793: The name tf.train.Optimizer is deprecated. Please use tf.compat.v1.train.Optimizer instead.\n",
            "\n"
          ],
          "name": "stdout"
        }
      ]
    },
    {
      "cell_type": "code",
      "metadata": {
        "id": "PX51y4yLIFmi",
        "colab_type": "code",
        "outputId": "9a7188b7-f4a6-42ce-87e4-8b5067e97496",
        "colab": {
          "base_uri": "https://localhost:8080/",
          "height": 1000
        }
      },
      "source": [
        "history = model.fit(partial_x_train,\n",
        "                    partial_y_train,\n",
        "                    epochs=20,\n",
        "                    batch_size=512,\n",
        "                    validation_data=(x_val, y_val))"
      ],
      "execution_count": 14,
      "outputs": [
        {
          "output_type": "stream",
          "text": [
            "WARNING:tensorflow:From /usr/local/lib/python3.6/dist-packages/keras/backend/tensorflow_backend.py:1033: The name tf.assign_add is deprecated. Please use tf.compat.v1.assign_add instead.\n",
            "\n",
            "WARNING:tensorflow:From /usr/local/lib/python3.6/dist-packages/keras/backend/tensorflow_backend.py:1020: The name tf.assign is deprecated. Please use tf.compat.v1.assign instead.\n",
            "\n",
            "WARNING:tensorflow:From /usr/local/lib/python3.6/dist-packages/keras/backend/tensorflow_backend.py:3005: The name tf.Session is deprecated. Please use tf.compat.v1.Session instead.\n",
            "\n",
            "Train on 7982 samples, validate on 1000 samples\n",
            "Epoch 1/20\n",
            "WARNING:tensorflow:From /usr/local/lib/python3.6/dist-packages/keras/backend/tensorflow_backend.py:190: The name tf.get_default_session is deprecated. Please use tf.compat.v1.get_default_session instead.\n",
            "\n",
            "WARNING:tensorflow:From /usr/local/lib/python3.6/dist-packages/keras/backend/tensorflow_backend.py:197: The name tf.ConfigProto is deprecated. Please use tf.compat.v1.ConfigProto instead.\n",
            "\n",
            "WARNING:tensorflow:From /usr/local/lib/python3.6/dist-packages/keras/backend/tensorflow_backend.py:207: The name tf.global_variables is deprecated. Please use tf.compat.v1.global_variables instead.\n",
            "\n",
            "WARNING:tensorflow:From /usr/local/lib/python3.6/dist-packages/keras/backend/tensorflow_backend.py:216: The name tf.is_variable_initialized is deprecated. Please use tf.compat.v1.is_variable_initialized instead.\n",
            "\n",
            "WARNING:tensorflow:From /usr/local/lib/python3.6/dist-packages/keras/backend/tensorflow_backend.py:223: The name tf.variables_initializer is deprecated. Please use tf.compat.v1.variables_initializer instead.\n",
            "\n",
            "7982/7982 [==============================] - 1s 162us/step - loss: 0.2578 - acc: 0.0484 - val_loss: 0.2563 - val_acc: 0.0460\n",
            "Epoch 2/20\n",
            "7982/7982 [==============================] - 0s 58us/step - loss: 0.2547 - acc: 0.0484 - val_loss: 0.2531 - val_acc: 0.0460\n",
            "Epoch 3/20\n",
            "7982/7982 [==============================] - 0s 58us/step - loss: 0.2516 - acc: 0.0484 - val_loss: 0.2501 - val_acc: 0.0460\n",
            "Epoch 4/20\n",
            "7982/7982 [==============================] - 0s 58us/step - loss: 0.2486 - acc: 0.0484 - val_loss: 0.2470 - val_acc: 0.0460\n",
            "Epoch 5/20\n",
            "7982/7982 [==============================] - 0s 58us/step - loss: 0.2455 - acc: 0.0484 - val_loss: 0.2440 - val_acc: 0.0460\n",
            "Epoch 6/20\n",
            "7982/7982 [==============================] - 0s 59us/step - loss: 0.2425 - acc: 0.0484 - val_loss: 0.2410 - val_acc: 0.0460\n",
            "Epoch 7/20\n",
            "7982/7982 [==============================] - 0s 59us/step - loss: 0.2395 - acc: 0.0484 - val_loss: 0.2381 - val_acc: 0.0460\n",
            "Epoch 8/20\n",
            "7982/7982 [==============================] - 0s 58us/step - loss: 0.2366 - acc: 0.0484 - val_loss: 0.2351 - val_acc: 0.0460\n",
            "Epoch 9/20\n",
            "7982/7982 [==============================] - 0s 58us/step - loss: 0.2337 - acc: 0.0484 - val_loss: 0.2322 - val_acc: 0.0460\n",
            "Epoch 10/20\n",
            "7982/7982 [==============================] - 0s 58us/step - loss: 0.2308 - acc: 0.0484 - val_loss: 0.2294 - val_acc: 0.0460\n",
            "Epoch 11/20\n",
            "7982/7982 [==============================] - 0s 60us/step - loss: 0.2279 - acc: 0.0484 - val_loss: 0.2265 - val_acc: 0.0460\n",
            "Epoch 12/20\n",
            "7982/7982 [==============================] - 0s 58us/step - loss: 0.2251 - acc: 0.0484 - val_loss: 0.2237 - val_acc: 0.0460\n",
            "Epoch 13/20\n",
            "7982/7982 [==============================] - 0s 58us/step - loss: 0.2223 - acc: 0.0484 - val_loss: 0.2209 - val_acc: 0.0460\n",
            "Epoch 14/20\n",
            "7982/7982 [==============================] - 0s 58us/step - loss: 0.2196 - acc: 0.0484 - val_loss: 0.2182 - val_acc: 0.0460\n",
            "Epoch 15/20\n",
            "7982/7982 [==============================] - 0s 58us/step - loss: 0.2168 - acc: 0.0484 - val_loss: 0.2155 - val_acc: 0.0460\n",
            "Epoch 16/20\n",
            "7982/7982 [==============================] - 0s 57us/step - loss: 0.2141 - acc: 0.0484 - val_loss: 0.2128 - val_acc: 0.0460\n",
            "Epoch 17/20\n",
            "7982/7982 [==============================] - 0s 57us/step - loss: 0.2114 - acc: 0.0484 - val_loss: 0.2101 - val_acc: 0.0460\n",
            "Epoch 18/20\n",
            "7982/7982 [==============================] - 0s 57us/step - loss: 0.2088 - acc: 0.0484 - val_loss: 0.2075 - val_acc: 0.0460\n",
            "Epoch 19/20\n",
            "7982/7982 [==============================] - 0s 57us/step - loss: 0.2062 - acc: 0.0484 - val_loss: 0.2049 - val_acc: 0.0460\n",
            "Epoch 20/20\n",
            "7982/7982 [==============================] - 0s 58us/step - loss: 0.2036 - acc: 0.0484 - val_loss: 0.2023 - val_acc: 0.0460\n"
          ],
          "name": "stdout"
        }
      ]
    },
    {
      "cell_type": "code",
      "metadata": {
        "id": "RjmZNAZ9IJhY",
        "colab_type": "code",
        "outputId": "419be0c8-38b1-47cb-95d1-d4a94553febf",
        "colab": {
          "base_uri": "https://localhost:8080/",
          "height": 295
        }
      },
      "source": [
        "import matplotlib.pyplot as plt\n",
        "\n",
        "loss = history.history['loss']\n",
        "val_loss = history.history['val_loss']\n",
        "\n",
        "epochs = range(1, len(loss) + 1)\n",
        "\n",
        "plt.plot(epochs, loss, 'bo', label='Training loss')  #“bo” is for “blue dot.”\n",
        "plt.plot(epochs, val_loss, 'b', label='Validation loss')  #“b” is for “solid blue line.”\n",
        "plt.title('Training and validation loss')\n",
        "plt.xlabel('Epochs')\n",
        "plt.ylabel('Loss')\n",
        "plt.legend()\n",
        "plt.show()"
      ],
      "execution_count": 15,
      "outputs": [
        {
          "output_type": "display_data",
          "data": {
            "image/png": "[encoded data removed]",
            "text/plain": [
              "<Figure size 432x288 with 1 Axes>"
            ]
          },
          "metadata": {
            "tags": []
          }
        }
      ]
    },
    {
      "cell_type": "code",
      "metadata": {
        "id": "8ATi3bvt3-8H",
        "colab_type": "code",
        "outputId": "10837ca1-c61a-4ee6-d573-aca4d23e5edc",
        "colab": {
          "base_uri": "https://localhost:8080/",
          "height": 221
        }
      },
      "source": [
        "model.summary()"
      ],
      "execution_count": 16,
      "outputs": [
        {
          "output_type": "stream",
          "text": [
            "Model: \"sequential_1\"\n",
            "_________________________________________________________________\n",
            "Layer (type)                 Output Shape              Param #   \n",
            "=================================================================\n",
            "dense_1 (Dense)              (None, 64)                640064    \n",
            "_________________________________________________________________\n",
            "dense_2 (Dense)              (None, 46)                2990      \n",
            "=================================================================\n",
            "Total params: 643,054\n",
            "Trainable params: 643,054\n",
            "Non-trainable params: 0\n",
            "_________________________________________________________________\n"
          ],
          "name": "stdout"
        }
      ]
    },
    {
      "cell_type": "markdown",
      "metadata": {
        "id": "EWNm9eo-YeoO",
        "colab_type": "text"
      },
      "source": [
        "____\n",
        "\n",
        "### Softmax Activation and MSE Loss with 3 dense layers\n",
        "\n",
        "First Neural Network for Analysis with three (3) dense layers:\n",
        "\n",
        "* First Layer\n",
        "  * 512 neurons per layer\n",
        "  * Activation Function : `relu`\n",
        "\n",
        "* Second Layer\n",
        "  * 1024 neurons per layer\n",
        "  * Activation Function : `relu`\n",
        "  \n",
        "* Third Layer\n",
        "  * 46 neurons per layer\n",
        "  * Activation Function : `softmax`\n",
        "  \n",
        "- Optimizer : `sgd`\n",
        "- Loss Function : `mse`"
      ]
    },
    {
      "cell_type": "code",
      "metadata": {
        "id": "xwiPxKfvYeK2",
        "colab_type": "code",
        "colab": {}
      },
      "source": [
        "model = models.Sequential()\n",
        "model.add(layers.Dense(512, activation='relu', input_shape=(10000,)))\n",
        "model.add(layers.Dense(1024, activation='relu'))\n",
        "model.add(layers.Dense(46, activation='softmax'))\n",
        "\n",
        "model.compile(optimizer='sgd', loss='mse', metrics=['accuracy'])"
      ],
      "execution_count": 0,
      "outputs": []
    },
    {
      "cell_type": "code",
      "metadata": {
        "id": "xo3MFTCpYk1G",
        "colab_type": "code",
        "colab": {
          "base_uri": "https://localhost:8080/",
          "height": 714
        },
        "outputId": "473f7cf3-b9f5-40da-d51a-8769329251a3"
      },
      "source": [
        "history = model.fit(partial_x_train,\n",
        "                    partial_y_train,\n",
        "                    epochs=20,\n",
        "                    batch_size=512,\n",
        "                    validation_data=(x_val, y_val))"
      ],
      "execution_count": 18,
      "outputs": [
        {
          "output_type": "stream",
          "text": [
            "Train on 7982 samples, validate on 1000 samples\n",
            "Epoch 1/20\n",
            "7982/7982 [==============================] - 1s 109us/step - loss: 0.0213 - acc: 0.0405 - val_loss: 0.0212 - val_acc: 0.0350\n",
            "Epoch 2/20\n",
            "7982/7982 [==============================] - 1s 79us/step - loss: 0.0213 - acc: 0.0408 - val_loss: 0.0212 - val_acc: 0.0350\n",
            "Epoch 3/20\n",
            "7982/7982 [==============================] - 1s 78us/step - loss: 0.0213 - acc: 0.0410 - val_loss: 0.0212 - val_acc: 0.0350\n",
            "Epoch 4/20\n",
            "7982/7982 [==============================] - 1s 76us/step - loss: 0.0213 - acc: 0.0415 - val_loss: 0.0212 - val_acc: 0.0350\n",
            "Epoch 5/20\n",
            "7982/7982 [==============================] - 1s 78us/step - loss: 0.0212 - acc: 0.0417 - val_loss: 0.0212 - val_acc: 0.0360\n",
            "Epoch 6/20\n",
            "7982/7982 [==============================] - 1s 79us/step - loss: 0.0212 - acc: 0.0426 - val_loss: 0.0212 - val_acc: 0.0360\n",
            "Epoch 7/20\n",
            "7982/7982 [==============================] - 1s 79us/step - loss: 0.0212 - acc: 0.0431 - val_loss: 0.0212 - val_acc: 0.0360\n",
            "Epoch 8/20\n",
            "7982/7982 [==============================] - 1s 79us/step - loss: 0.0212 - acc: 0.0441 - val_loss: 0.0212 - val_acc: 0.0380\n",
            "Epoch 9/20\n",
            "7982/7982 [==============================] - 1s 77us/step - loss: 0.0212 - acc: 0.0447 - val_loss: 0.0212 - val_acc: 0.0390\n",
            "Epoch 10/20\n",
            "7982/7982 [==============================] - 1s 80us/step - loss: 0.0212 - acc: 0.0447 - val_loss: 0.0212 - val_acc: 0.0390\n",
            "Epoch 11/20\n",
            "7982/7982 [==============================] - 1s 79us/step - loss: 0.0212 - acc: 0.0451 - val_loss: 0.0212 - val_acc: 0.0400\n",
            "Epoch 12/20\n",
            "7982/7982 [==============================] - 1s 79us/step - loss: 0.0212 - acc: 0.0461 - val_loss: 0.0212 - val_acc: 0.0400\n",
            "Epoch 13/20\n",
            "7982/7982 [==============================] - 1s 78us/step - loss: 0.0212 - acc: 0.0464 - val_loss: 0.0212 - val_acc: 0.0400\n",
            "Epoch 14/20\n",
            "7982/7982 [==============================] - 1s 78us/step - loss: 0.0212 - acc: 0.0470 - val_loss: 0.0212 - val_acc: 0.0400\n",
            "Epoch 15/20\n",
            "7982/7982 [==============================] - 1s 78us/step - loss: 0.0212 - acc: 0.0476 - val_loss: 0.0212 - val_acc: 0.0410\n",
            "Epoch 16/20\n",
            "7982/7982 [==============================] - 1s 77us/step - loss: 0.0212 - acc: 0.0479 - val_loss: 0.0212 - val_acc: 0.0420\n",
            "Epoch 17/20\n",
            "7982/7982 [==============================] - 1s 78us/step - loss: 0.0212 - acc: 0.0486 - val_loss: 0.0212 - val_acc: 0.0420\n",
            "Epoch 18/20\n",
            "7982/7982 [==============================] - 1s 79us/step - loss: 0.0212 - acc: 0.0490 - val_loss: 0.0212 - val_acc: 0.0430\n",
            "Epoch 19/20\n",
            "7982/7982 [==============================] - 1s 77us/step - loss: 0.0212 - acc: 0.0497 - val_loss: 0.0212 - val_acc: 0.0440\n",
            "Epoch 20/20\n",
            "7982/7982 [==============================] - 1s 78us/step - loss: 0.0212 - acc: 0.0500 - val_loss: 0.0212 - val_acc: 0.0440\n"
          ],
          "name": "stdout"
        }
      ]
    },
    {
      "cell_type": "code",
      "metadata": {
        "id": "3ZbV6zqYYyfp",
        "colab_type": "code",
        "colab": {
          "base_uri": "https://localhost:8080/",
          "height": 295
        },
        "outputId": "0142887f-db7c-4639-bca0-55c8eb6de25e"
      },
      "source": [
        "loss = history.history['loss']\n",
        "val_loss = history.history['val_loss']\n",
        "\n",
        "epochs = range(1, len(loss) + 1)\n",
        "\n",
        "plt.plot(epochs, loss, 'bo', label='Training loss')  #“bo” is for “blue dot.”\n",
        "plt.plot(epochs, val_loss, 'b', label='Validation loss')  #“b” is for “solid blue line.”\n",
        "plt.title('Training and validation loss')\n",
        "plt.xlabel('Epochs')\n",
        "plt.ylabel('Loss')\n",
        "plt.legend()\n",
        "plt.show()"
      ],
      "execution_count": 19,
      "outputs": [
        {
          "output_type": "display_data",
          "data": {
            "image/png": "[encoded data removed]",
            "text/plain": [
              "<Figure size 432x288 with 1 Axes>"
            ]
          },
          "metadata": {
            "tags": []
          }
        }
      ]
    },
    {
      "cell_type": "code",
      "metadata": {
        "id": "la-hIa7AY0eK",
        "colab_type": "code",
        "colab": {
          "base_uri": "https://localhost:8080/",
          "height": 255
        },
        "outputId": "c248aa8b-26ea-4230-b7c7-c58ad7505141"
      },
      "source": [
        "model.summary()"
      ],
      "execution_count": 20,
      "outputs": [
        {
          "output_type": "stream",
          "text": [
            "Model: \"sequential_2\"\n",
            "_________________________________________________________________\n",
            "Layer (type)                 Output Shape              Param #   \n",
            "=================================================================\n",
            "dense_3 (Dense)              (None, 512)               5120512   \n",
            "_________________________________________________________________\n",
            "dense_4 (Dense)              (None, 1024)              525312    \n",
            "_________________________________________________________________\n",
            "dense_5 (Dense)              (None, 46)                47150     \n",
            "=================================================================\n",
            "Total params: 5,692,974\n",
            "Trainable params: 5,692,974\n",
            "Non-trainable params: 0\n",
            "_________________________________________________________________\n"
          ],
          "name": "stdout"
        }
      ]
    },
    {
      "cell_type": "markdown",
      "metadata": {
        "id": "Jl57nrFlY08S",
        "colab_type": "text"
      },
      "source": [
        "____\n",
        "\n",
        "### Sigmoid Activation and Binary Cross Entropy Loss with 2 dense layers\n",
        "\n",
        "First Neural Network for Analysis with two (2) dense layers:\n",
        "\n",
        "* First Layer\n",
        "  * 64 neurons per layer\n",
        "  * Activation Function : `sigmoid`\n",
        "\n",
        "* Second Layer\n",
        "  * 46 neurons per layer\n",
        "  * Activation Function : `sigmoid`\n",
        "  \n",
        "- Optimizer : `adam`\n",
        "- Loss Function : `categorical_crossentropy`"
      ]
    },
    {
      "cell_type": "code",
      "metadata": {
        "id": "BDfBVIb5Y1NB",
        "colab_type": "code",
        "colab": {
          "base_uri": "https://localhost:8080/",
          "height": 71
        },
        "outputId": "f9fa9522-4a90-4cc0-9eb2-d51184a30c52"
      },
      "source": [
        "model = models.Sequential()\n",
        "model.add(layers.Dense(64, activation='sigmoid', input_shape=(10000,)))\n",
        "model.add(layers.Dense(46, activation='sigmoid'))\n",
        "\n",
        "model.compile(optimizer='adam', loss='categorical_crossentropy', metrics=['accuracy'])\n"
      ],
      "execution_count": 21,
      "outputs": [
        {
          "output_type": "stream",
          "text": [
            "WARNING:tensorflow:From /usr/local/lib/python3.6/dist-packages/keras/backend/tensorflow_backend.py:3576: The name tf.log is deprecated. Please use tf.math.log instead.\n",
            "\n"
          ],
          "name": "stdout"
        }
      ]
    },
    {
      "cell_type": "code",
      "metadata": {
        "id": "WGNX2caiY1XR",
        "colab_type": "code",
        "colab": {
          "base_uri": "https://localhost:8080/",
          "height": 785
        },
        "outputId": "1f0179e1-e76b-4bd4-edc5-852f732a9699"
      },
      "source": [
        "history = model.fit(partial_x_train,\n",
        "                    partial_y_train,\n",
        "                    epochs=20,\n",
        "                    batch_size=512,\n",
        "                    validation_data=(x_val, y_val))"
      ],
      "execution_count": 22,
      "outputs": [
        {
          "output_type": "stream",
          "text": [
            "WARNING:tensorflow:From /usr/local/lib/python3.6/dist-packages/tensorflow_core/python/ops/math_grad.py:1424: where (from tensorflow.python.ops.array_ops) is deprecated and will be removed in a future version.\n",
            "Instructions for updating:\n",
            "Use tf.where in 2.0, which has the same broadcast rule as np.where\n",
            "Train on 7982 samples, validate on 1000 samples\n",
            "Epoch 1/20\n",
            "7982/7982 [==============================] - 1s 92us/step - loss: 3.7129 - acc: 0.0714 - val_loss: 3.4446 - val_acc: 0.2670\n",
            "Epoch 2/20\n",
            "7982/7982 [==============================] - 0s 61us/step - loss: 3.2861 - acc: 0.4544 - val_loss: 3.1283 - val_acc: 0.5750\n",
            "Epoch 3/20\n",
            "7982/7982 [==============================] - 1s 64us/step - loss: 2.9783 - acc: 0.5764 - val_loss: 2.8333 - val_acc: 0.5580\n",
            "Epoch 4/20\n",
            "7982/7982 [==============================] - 1s 64us/step - loss: 2.6824 - acc: 0.5417 - val_loss: 2.5568 - val_acc: 0.5130\n",
            "Epoch 5/20\n",
            "7982/7982 [==============================] - 0s 62us/step - loss: 2.4085 - acc: 0.5003 - val_loss: 2.3096 - val_acc: 0.4740\n",
            "Epoch 6/20\n",
            "7982/7982 [==============================] - 0s 62us/step - loss: 2.1705 - acc: 0.4554 - val_loss: 2.1096 - val_acc: 0.4200\n",
            "Epoch 7/20\n",
            "7982/7982 [==============================] - 0s 61us/step - loss: 1.9694 - acc: 0.3978 - val_loss: 1.9339 - val_acc: 0.3740\n",
            "Epoch 8/20\n",
            "7982/7982 [==============================] - 0s 61us/step - loss: 1.7852 - acc: 0.4024 - val_loss: 1.7777 - val_acc: 0.4050\n",
            "Epoch 9/20\n",
            "7982/7982 [==============================] - 0s 60us/step - loss: 1.6231 - acc: 0.4490 - val_loss: 1.6461 - val_acc: 0.4770\n",
            "Epoch 10/20\n",
            "7982/7982 [==============================] - 0s 62us/step - loss: 1.4755 - acc: 0.5928 - val_loss: 1.5186 - val_acc: 0.6210\n",
            "Epoch 11/20\n",
            "7982/7982 [==============================] - 0s 62us/step - loss: 1.3360 - acc: 0.7078 - val_loss: 1.4055 - val_acc: 0.6720\n",
            "Epoch 12/20\n",
            "7982/7982 [==============================] - 0s 60us/step - loss: 1.2135 - acc: 0.7471 - val_loss: 1.3145 - val_acc: 0.6910\n",
            "Epoch 13/20\n",
            "7982/7982 [==============================] - 0s 61us/step - loss: 1.1106 - acc: 0.7745 - val_loss: 1.2403 - val_acc: 0.7080\n",
            "Epoch 14/20\n",
            "7982/7982 [==============================] - 0s 61us/step - loss: 1.0235 - acc: 0.7929 - val_loss: 1.1798 - val_acc: 0.7240\n",
            "Epoch 15/20\n",
            "7982/7982 [==============================] - 0s 62us/step - loss: 0.9484 - acc: 0.8066 - val_loss: 1.1291 - val_acc: 0.7380\n",
            "Epoch 16/20\n",
            "7982/7982 [==============================] - 0s 61us/step - loss: 0.8832 - acc: 0.8225 - val_loss: 1.0865 - val_acc: 0.7590\n",
            "Epoch 17/20\n",
            "7982/7982 [==============================] - 0s 62us/step - loss: 0.8252 - acc: 0.8330 - val_loss: 1.0503 - val_acc: 0.7620\n",
            "Epoch 18/20\n",
            "7982/7982 [==============================] - 0s 60us/step - loss: 0.7736 - acc: 0.8483 - val_loss: 1.0181 - val_acc: 0.7760\n",
            "Epoch 19/20\n",
            "7982/7982 [==============================] - 0s 60us/step - loss: 0.7268 - acc: 0.8579 - val_loss: 0.9927 - val_acc: 0.7780\n",
            "Epoch 20/20\n",
            "7982/7982 [==============================] - 0s 61us/step - loss: 0.6842 - acc: 0.8664 - val_loss: 0.9665 - val_acc: 0.7820\n"
          ],
          "name": "stdout"
        }
      ]
    },
    {
      "cell_type": "code",
      "metadata": {
        "id": "s0shxjZ8Y1iY",
        "colab_type": "code",
        "colab": {
          "base_uri": "https://localhost:8080/",
          "height": 295
        },
        "outputId": "6020e76c-0a25-40bd-ff49-b2759d812232"
      },
      "source": [
        "loss = history.history['loss']\n",
        "val_loss = history.history['val_loss']\n",
        "\n",
        "epochs = range(1, len(loss) + 1)\n",
        "\n",
        "plt.plot(epochs, loss, 'bo', label='Training loss')  #“bo” is for “blue dot.”\n",
        "plt.plot(epochs, val_loss, 'b', label='Validation loss')  #“b” is for “solid blue line.”\n",
        "plt.title('Training and validation loss')\n",
        "plt.xlabel('Epochs')\n",
        "plt.ylabel('Loss')\n",
        "plt.legend()\n",
        "plt.show()"
      ],
      "execution_count": 23,
      "outputs": [
        {
          "output_type": "display_data",
          "data": {
            "image/png": "[encoded data removed]",
            "text/plain": [
              "<Figure size 432x288 with 1 Axes>"
            ]
          },
          "metadata": {
            "tags": []
          }
        }
      ]
    },
    {
      "cell_type": "code",
      "metadata": {
        "id": "2ixz_46hY1so",
        "colab_type": "code",
        "colab": {
          "base_uri": "https://localhost:8080/",
          "height": 221
        },
        "outputId": "6fec73bc-dfd7-4fcb-a79a-0979ae36c1fe"
      },
      "source": [
        "model.summary()"
      ],
      "execution_count": 24,
      "outputs": [
        {
          "output_type": "stream",
          "text": [
            "Model: \"sequential_3\"\n",
            "_________________________________________________________________\n",
            "Layer (type)                 Output Shape              Param #   \n",
            "=================================================================\n",
            "dense_6 (Dense)              (None, 64)                640064    \n",
            "_________________________________________________________________\n",
            "dense_7 (Dense)              (None, 46)                2990      \n",
            "=================================================================\n",
            "Total params: 643,054\n",
            "Trainable params: 643,054\n",
            "Non-trainable params: 0\n",
            "_________________________________________________________________\n"
          ],
          "name": "stdout"
        }
      ]
    },
    {
      "cell_type": "markdown",
      "metadata": {
        "id": "kAulpHO5Y14p",
        "colab_type": "text"
      },
      "source": [
        "____\n",
        "\n",
        "### Softmax Activation and MSE Loss with 3 dense layers\n",
        "\n",
        "First Neural Network for Analysis with three (3) dense layers:\n",
        "\n",
        "* First Layer\n",
        "  * 512 neurons per layer\n",
        "  * Activation Function : `relu`\n",
        "\n",
        "* Second Layer\n",
        "  * 1024 neurons per layer\n",
        "  * Activation Function : `relu`\n",
        "  \n",
        "* Third Layer\n",
        "  * 46 neurons per layer\n",
        "  * Activation Function : `softmax`\n",
        "  \n",
        "- Optimizer : `adam`\n",
        "- Loss Function : `categorical_crossentropy`"
      ]
    },
    {
      "cell_type": "code",
      "metadata": {
        "id": "WM8wXTiGY2Fd",
        "colab_type": "code",
        "colab": {}
      },
      "source": [
        "model = models.Sequential()\n",
        "model.add(layers.Dense(512, activation='relu', input_shape=(10000,)))\n",
        "model.add(layers.Dense(1024, activation='relu'))\n",
        "model.add(layers.Dense(46, activation='softmax'))\n",
        "\n",
        "model.compile(optimizer='adam', loss='categorical_crossentropy', metrics=['accuracy'])"
      ],
      "execution_count": 0,
      "outputs": []
    },
    {
      "cell_type": "code",
      "metadata": {
        "id": "dsgl2TkSY2Pp",
        "colab_type": "code",
        "colab": {
          "base_uri": "https://localhost:8080/",
          "height": 714
        },
        "outputId": "965b10d7-5844-4c71-f806-2d9ee5d4786f"
      },
      "source": [
        "history = model.fit(partial_x_train,\n",
        "                    partial_y_train,\n",
        "                    epochs=20,\n",
        "                    batch_size=512,\n",
        "                    validation_data=(x_val, y_val))"
      ],
      "execution_count": 26,
      "outputs": [
        {
          "output_type": "stream",
          "text": [
            "Train on 7982 samples, validate on 1000 samples\n",
            "Epoch 1/20\n",
            "7982/7982 [==============================] - 1s 144us/step - loss: 2.2838 - acc: 0.5435 - val_loss: 1.4441 - val_acc: 0.6740\n",
            "Epoch 2/20\n",
            "7982/7982 [==============================] - 1s 92us/step - loss: 1.1359 - acc: 0.7442 - val_loss: 1.0993 - val_acc: 0.7660\n",
            "Epoch 3/20\n",
            "7982/7982 [==============================] - 1s 90us/step - loss: 0.6959 - acc: 0.8349 - val_loss: 0.9569 - val_acc: 0.8050\n",
            "Epoch 4/20\n",
            "7982/7982 [==============================] - 1s 90us/step - loss: 0.3865 - acc: 0.9118 - val_loss: 0.9288 - val_acc: 0.8200\n",
            "Epoch 5/20\n",
            "7982/7982 [==============================] - 1s 91us/step - loss: 0.2387 - acc: 0.9422 - val_loss: 0.9452 - val_acc: 0.8180\n",
            "Epoch 6/20\n",
            "7982/7982 [==============================] - 1s 90us/step - loss: 0.1637 - acc: 0.9562 - val_loss: 0.9496 - val_acc: 0.8230\n",
            "Epoch 7/20\n",
            "7982/7982 [==============================] - 1s 88us/step - loss: 0.1382 - acc: 0.9582 - val_loss: 0.9694 - val_acc: 0.8150\n",
            "Epoch 8/20\n",
            "7982/7982 [==============================] - 1s 89us/step - loss: 0.1270 - acc: 0.9610 - val_loss: 0.9350 - val_acc: 0.8220\n",
            "Epoch 9/20\n",
            "7982/7982 [==============================] - 1s 91us/step - loss: 0.1202 - acc: 0.9599 - val_loss: 0.9442 - val_acc: 0.8170\n",
            "Epoch 10/20\n",
            "7982/7982 [==============================] - 1s 88us/step - loss: 0.1128 - acc: 0.9592 - val_loss: 0.9650 - val_acc: 0.8180\n",
            "Epoch 11/20\n",
            "7982/7982 [==============================] - 1s 89us/step - loss: 0.1012 - acc: 0.9622 - val_loss: 0.9119 - val_acc: 0.8230\n",
            "Epoch 12/20\n",
            "7982/7982 [==============================] - 1s 90us/step - loss: 0.0953 - acc: 0.9620 - val_loss: 0.9885 - val_acc: 0.8060\n",
            "Epoch 13/20\n",
            "7982/7982 [==============================] - 1s 89us/step - loss: 0.0919 - acc: 0.9630 - val_loss: 0.9339 - val_acc: 0.8170\n",
            "Epoch 14/20\n",
            "7982/7982 [==============================] - 1s 89us/step - loss: 0.0879 - acc: 0.9627 - val_loss: 0.9444 - val_acc: 0.8180\n",
            "Epoch 15/20\n",
            "7982/7982 [==============================] - 1s 91us/step - loss: 0.0888 - acc: 0.9622 - val_loss: 0.9319 - val_acc: 0.8230\n",
            "Epoch 16/20\n",
            "7982/7982 [==============================] - 1s 90us/step - loss: 0.0861 - acc: 0.9614 - val_loss: 0.9428 - val_acc: 0.8190\n",
            "Epoch 17/20\n",
            "7982/7982 [==============================] - 1s 88us/step - loss: 0.0811 - acc: 0.9607 - val_loss: 0.9435 - val_acc: 0.8180\n",
            "Epoch 18/20\n",
            "7982/7982 [==============================] - 1s 90us/step - loss: 0.0835 - acc: 0.9597 - val_loss: 0.9700 - val_acc: 0.8150\n",
            "Epoch 19/20\n",
            "7982/7982 [==============================] - 1s 91us/step - loss: 0.0811 - acc: 0.9607 - val_loss: 0.9304 - val_acc: 0.8160\n",
            "Epoch 20/20\n",
            "7982/7982 [==============================] - 1s 90us/step - loss: 0.0830 - acc: 0.9625 - val_loss: 0.9553 - val_acc: 0.8180\n"
          ],
          "name": "stdout"
        }
      ]
    },
    {
      "cell_type": "code",
      "metadata": {
        "id": "JH8yYBN0Y2Zp",
        "colab_type": "code",
        "colab": {
          "base_uri": "https://localhost:8080/",
          "height": 295
        },
        "outputId": "c1fd75f7-8693-4faa-a1fb-bfcabdcc1351"
      },
      "source": [
        "loss = history.history['loss']\n",
        "val_loss = history.history['val_loss']\n",
        "\n",
        "epochs = range(1, len(loss) + 1)\n",
        "\n",
        "plt.plot(epochs, loss, 'bo', label='Training loss')  #“bo” is for “blue dot.”\n",
        "plt.plot(epochs, val_loss, 'b', label='Validation loss')  #“b” is for “solid blue line.”\n",
        "plt.title('Training and validation loss')\n",
        "plt.xlabel('Epochs')\n",
        "plt.ylabel('Loss')\n",
        "plt.legend()\n",
        "plt.show()"
      ],
      "execution_count": 27,
      "outputs": [
        {
          "output_type": "display_data",
          "data": {
            "image/png": "[encoded data removed]",
            "text/plain": [
              "<Figure size 432x288 with 1 Axes>"
            ]
          },
          "metadata": {
            "tags": []
          }
        }
      ]
    },
    {
      "cell_type": "code",
      "metadata": {
        "id": "A_xaqZt7Y2jI",
        "colab_type": "code",
        "colab": {
          "base_uri": "https://localhost:8080/",
          "height": 255
        },
        "outputId": "e5977699-68ed-4601-a826-8c20f64a6c66"
      },
      "source": [
        "model.summary()"
      ],
      "execution_count": 28,
      "outputs": [
        {
          "output_type": "stream",
          "text": [
            "Model: \"sequential_4\"\n",
            "_________________________________________________________________\n",
            "Layer (type)                 Output Shape              Param #   \n",
            "=================================================================\n",
            "dense_8 (Dense)              (None, 512)               5120512   \n",
            "_________________________________________________________________\n",
            "dense_9 (Dense)              (None, 1024)              525312    \n",
            "_________________________________________________________________\n",
            "dense_10 (Dense)             (None, 46)                47150     \n",
            "=================================================================\n",
            "Total params: 5,692,974\n",
            "Trainable params: 5,692,974\n",
            "Non-trainable params: 0\n",
            "_________________________________________________________________\n"
          ],
          "name": "stdout"
        }
      ]
    },
    {
      "cell_type": "markdown",
      "metadata": {
        "id": "Et3R6Qk8k1rY",
        "colab_type": "text"
      },
      "source": [
        "# Analysis\n",
        "\n",
        "Kindly note that were built 4 models that have the following characteristics:\n",
        "\n",
        "| Model | Model 1 | Model 2 | Model 3 | Model 4 |\n",
        "|-------|---------|---------|---------|---------|\n",
        "|   # of Layers | 2 | 3 | 2 | 3 |\n",
        "|   Optimizer | SGD | SGD | adam | adam |\n",
        "|   Loss Function | MSE | MSE | Categorical Crossentropy | Categorical Crossentropy |\n",
        "\n",
        "The architecture with 2 or 3 layers have the following parameters:\n",
        "\n",
        "### 2 Dense Layers\n",
        "\n",
        "|   Layer No. | 1 | 2 | \n",
        "|-------|---------|---------|\n",
        "|   Neurons per Layer | 64 | 46 | \n",
        "|   Activation Function | sigmoid | sigmoid | \n",
        "\n",
        "### 3 Dense Layers\n",
        "\n",
        "|   Layer No. | 1 | 2 | 3 | \n",
        "|-------|---------|---------|---------|\n",
        "|   Neurons per Layer | 512 | 1024 | 46 | \n",
        "|   Activation Function | relu | relu | softmax | \n",
        "\n",
        "In order to provides an answer, we must talk about the metric to evaluate the models; can be compare those models with the same metric.\n",
        "\n",
        "That means that we might evaluate the model 1 with 2, and model 3 with 4.\n",
        "\n",
        "The model 1 and 2 differs on the 3 aspects: \n",
        "- Number of layers\n",
        "- Neurons per layer \n",
        "- Optimizer\n",
        "- Activation Functions\n",
        "\n",
        "Becuase that, we find that the model 2 have a better performance what means that increasing the number of dense layers improves the performance (or minimize the loss function) keeping the same optimizer and activation function.\n",
        "\n",
        "On the other hand, talking about the models 3 and 4, we find that both differs on the same aspect as the models 1 and 2. \n",
        "\n",
        "As we found on the previous analysis, increasing the number of dense layers for the neural network architecture, implied to improve the performance.\n",
        "\n",
        "After a brief research [click here](https://jovianlin.io/cat-crossentropy-vs-sparse-cat-crossentropy/), the function `Categorical_Crossentropy` is often use to evaluate multiclass problems, as this problem is. In other words, for the context and performance, we recommend to use the model 4."
      ]
    }
  ]
}